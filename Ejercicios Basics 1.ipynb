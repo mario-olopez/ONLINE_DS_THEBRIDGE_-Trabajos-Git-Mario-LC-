{
 "cells": [
  {
   "cell_type": "markdown",
   "metadata": {},
   "source": [
    "![imagen](./img/ejercicios.png)"
   ]
  },
  {
   "cell_type": "markdown",
   "metadata": {},
   "source": [
    "# Ejercicios Python Basics I"
   ]
  },
  {
   "cell_type": "markdown",
   "metadata": {},
   "source": [
    "## Ejercicio 0\n",
    "Imprime por pantalla esta cita con el siguiente formato\n",
    "\n",
    "![imagen](./img/frase_Einstein.PNG)"
   ]
  },
  {
   "cell_type": "code",
   "execution_count": 11,
   "metadata": {},
   "outputs": [
    {
     "name": "stdout",
     "output_type": "stream",
     "text": [
      "¿Por qué esta magnífica tecnología científica,\n",
      "   que ahorra trabajo y nos hace la vida más fácil,\n",
      "       nos aporta tan poca felicidad?\n",
      "            La respuesta está, simplemente: porque aún no hemos aprendido a usarla con tino.\n",
      "\"Albert Einstein\"\n"
     ]
    }
   ],
   "source": [
    "primera_frase = \"¿Por qué esta magnífica tecnología científica,\"\n",
    "segunda_frase = \"   que ahorra trabajo y nos hace la vida más fácil,\"\n",
    "tercera_frase = \"       nos aporta tan poca felicidad?\"\n",
    "cuarta_frase = \"            La respuesta está, simplemente: porque aún no hemos aprendido a usarla con tino.\"\n",
    "quinta_frase = '\"Albert Einstein\"'\n",
    "\n",
    "print(primera_frase)\n",
    "print(segunda_frase)\n",
    "print(tercera_frase)\n",
    "print(cuarta_frase)\n",
    "print(quinta_frase)"
   ]
  },
  {
   "cell_type": "markdown",
   "metadata": {},
   "source": [
    "## Ejercicio 1\n",
    "1. Escribe el nombre de la calle de tu domicilio en una variable\n",
    "2. Escribe el numero de la calle en otra\n",
    "3. Ciudad en una tercera\n",
    "4. Codigo postal en la cuarta variable\n",
    "5. Imprime las 4 variables concatenadas por pantalla\n",
    "6. Crea una quinta variable que concatene todas ellas\n",
    "7. Imprímela por pantalla"
   ]
  },
  {
   "cell_type": "code",
   "execution_count": 17,
   "metadata": {},
   "outputs": [
    {
     "name": "stdout",
     "output_type": "stream",
     "text": [
      "Avenida Pio XII  97 BIS  Madrid  28036 \n",
      "Mario vive en Avenida Pio XII  97 BIS  Madrid  28036 \n"
     ]
    }
   ],
   "source": [
    "calle = \"Avenida Pio XII \"\n",
    "numero_calle = \" 97 BIS \"\n",
    "ciudad = \" Madrid \"\n",
    "cp = \" 28036 \"\n",
    "\n",
    "direccion = calle + numero_calle + ciudad + cp\n",
    "print(direccion)\n",
    "\n",
    "direccion_alumno = \"Mario vive en \" + direccion\n",
    "print(direccion_alumno)"
   ]
  },
  {
   "cell_type": "markdown",
   "metadata": {},
   "source": [
    "## Ejercicio 2\n",
    "Repite el ejercicio 1, pero pidiendo estos datos al usuario mediante un input(), imprimiendo a continuación la dirección completa"
   ]
  },
  {
   "cell_type": "code",
   "execution_count": null,
   "metadata": {},
   "outputs": [
    {
     "name": "stdout",
     "output_type": "stream",
     "text": [
      "Encantado, Antonio\n",
      "¿Tu dirección completa es  calle Buganvilla 7 Madrid 28036 ?\n"
     ]
    }
   ],
   "source": [
    "nombre = input(\"Hola, ¿cómo te llamas?\")\n",
    "print(\"Encantado,\" , nombre)\n",
    "\n",
    "peticion_calle = input(\"Dame tu dirección\")\n",
    "\n",
    "peticion_numero_calle = input(\"Dime el número de tu calle\")\n",
    "\n",
    "peticion_ciudad = input(\"Dime tu ciudad\")\n",
    "\n",
    "peticion_cp = input(\"Y tu código postal\")\n",
    "\n",
    "tu_direccion = peticion_calle + \" \" + peticion_numero_calle + \" \" + peticion_ciudad + \" \" + peticion_cp\n",
    "\n",
    "print(\"¿Tu dirección completa es\" , tu_direccion , \"?\")"
   ]
  },
  {
   "cell_type": "markdown",
   "metadata": {},
   "source": [
    "## Ejercicio 3\n",
    "¿Qué variables están mal escritas y por qué? Realiza primero tu hipótesis y luego ejecuta las variables para comprobarlo. En ese orden :)\n",
    "\n",
    "\n",
    "1. mi_variable = \"Economía\"\n",
    "2. otra_var = \"Ejercicio\n",
    "3. True = \"Ejercicio\"\n",
    "4. mi variab1e = \"Alpha\"\n",
    "5. import = 40\n",
    "6. 81mi_variable = \"Agua\"\n",
    "7. mi_variable10 = 6"
   ]
  },
  {
   "cell_type": "code",
   "execution_count": null,
   "metadata": {},
   "outputs": [],
   "source": [
    "# Aunque no está mal, no es aconsejable poner mayúsculas y tildes en las variables, por lo que la variable mi_variable está bien escrita\n",
    "\n",
    "# La variable otra_var está mal porque no está cerrada la declaración\n",
    "\n",
    "# La variable True está mal porque True es un booleano, no un string\n",
    "\n",
    "# No está mal del todo, pero tampoco es aconsejable mezclar números y letras en el nombre de las variables; si lo mezclamos es mejor separarlas con guiones\n",
    "\n",
    "# La quinta variable está mal porque import es una palabra reservada que sirve para importar bibliotecas\n",
    "\n",
    "# A la sexta y séptima variable le pasa lo mismo que a la cuarta; no está mal pero no es aconsejable"
   ]
  },
  {
   "cell_type": "code",
   "execution_count": null,
   "metadata": {},
   "outputs": [],
   "source": [
    " mi_variable = \"Economía\"\n",
    "otra_var = \"Ejercicio\n",
    "True = \"Ejercicio\"\n",
    "mi variab1e = \"Alpha\"\n",
    "import = 40\n",
    "81mi_variable = \"Agua\"\n",
    "mi_variable10 = 6"
   ]
  },
  {
   "cell_type": "code",
   "execution_count": null,
   "metadata": {},
   "outputs": [],
   "source": [
    "# Mi autorrección: en la sexta variable me he equivocado y está mal porque no se puede empezar una variable con un número"
   ]
  },
  {
   "cell_type": "markdown",
   "metadata": {},
   "source": [
    "## Ejercicio 4\n",
    "Realiza un conversor de grados Celsius a Fahrenheit. El conversor tiene que recibir el input del usuario y devolver la conversión.\n",
    "\n",
    "La conversión de grados sigue la siguiente fórmula: F = C × (9 / 5) + 32 "
   ]
  },
  {
   "cell_type": "code",
   "execution_count": 33,
   "metadata": {},
   "outputs": [
    {
     "ename": "TypeError",
     "evalue": "can only concatenate str (not \"int\") to str",
     "output_type": "error",
     "traceback": [
      "\u001b[0;31m---------------------------------------------------------------------------\u001b[0m",
      "\u001b[0;31mTypeError\u001b[0m                                 Traceback (most recent call last)",
      "Cell \u001b[0;32mIn[33], line 3\u001b[0m\n\u001b[1;32m      1\u001b[0m c \u001b[38;5;241m=\u001b[39m \u001b[38;5;28minput\u001b[39m(\u001b[38;5;124m\"\u001b[39m\u001b[38;5;124m¿Qué temperatura hace\u001b[39m\u001b[38;5;124m\"\u001b[39m)\n\u001b[0;32m----> 3\u001b[0m f \u001b[38;5;241m=\u001b[39m \u001b[43mc\u001b[49m\u001b[43m \u001b[49m\u001b[38;5;241;43m*\u001b[39;49m\u001b[43m \u001b[49m\u001b[38;5;28;43mint\u001b[39;49m\u001b[43m(\u001b[49m\u001b[43m(\u001b[49m\u001b[38;5;241;43m9\u001b[39;49m\u001b[43m \u001b[49m\u001b[38;5;241;43m/\u001b[39;49m\u001b[43m \u001b[49m\u001b[38;5;241;43m5\u001b[39;49m\u001b[43m)\u001b[49m\u001b[43m)\u001b[49m\u001b[43m \u001b[49m\u001b[38;5;241;43m+\u001b[39;49m\u001b[43m \u001b[49m\u001b[38;5;241;43m32\u001b[39;49m\n\u001b[1;32m      5\u001b[0m \u001b[38;5;28mprint\u001b[39m(\u001b[38;5;124m\"\u001b[39m\u001b[38;5;124mHacen \u001b[39m\u001b[38;5;124m\"\u001b[39m , f , \u001b[38;5;124m\"\u001b[39m\u001b[38;5;124m grados Fahrenheit\u001b[39m\u001b[38;5;124m\"\u001b[39m)\n",
      "\u001b[0;31mTypeError\u001b[0m: can only concatenate str (not \"int\") to str"
     ]
    }
   ],
   "source": [
    "c = input(\"¿Qué temperatura hace\")\n",
    "\n",
    "f = c * int((9 / 5)) + 32\n",
    "\n",
    "print(\"Hacen \" , f , \" grados Fahrenheit\")"
   ]
  },
  {
   "cell_type": "code",
   "execution_count": null,
   "metadata": {},
   "outputs": [
    {
     "name": "stdout",
     "output_type": "stream",
     "text": [
      "Hacen  51.8  grados Fahrenheit\n"
     ]
    }
   ],
   "source": [
    "# Respuesta correcta (con la ayuda de ChatGPT)\n",
    "\n",
    "c = int(input(\"¿Qué temperatura hace\"))\n",
    "\n",
    "f = c * (9 / 5) + 32\n",
    "\n",
    "print(\"Hacen \" , f , \" grados Fahrenheit\")"
   ]
  },
  {
   "cell_type": "markdown",
   "metadata": {},
   "source": [
    "## Ejercicio 5\n",
    "Comenta  el Ejercicio 4. Pon un comentario multilinea y haz comentarios de cada linea de código. Indica cuál es el input y el output de tu código."
   ]
  },
  {
   "cell_type": "code",
   "execution_count": null,
   "metadata": {},
   "outputs": [],
   "source": [
    "# En mi primer intento declaré una variable c que tuviese un input con la temperatura\n",
    "\n",
    "# Después declaré la fórmula de conversión de Celsius a Fahrenheit\n",
    "\n",
    "# Pero no especifiqué en la declaración de c que el input tiene que ser un int, de ahí el error  "
   ]
  }
 ],
 "metadata": {
  "kernelspec": {
   "display_name": "Python 3",
   "language": "python",
   "name": "python3"
  },
  "language_info": {
   "codemirror_mode": {
    "name": "ipython",
    "version": 3
   },
   "file_extension": ".py",
   "mimetype": "text/x-python",
   "name": "python",
   "nbconvert_exporter": "python",
   "pygments_lexer": "ipython3",
   "version": "3.13.0"
  },
  "nbTranslate": {
   "displayLangs": [
    "*"
   ],
   "hotkey": "alt-t",
   "langInMainMenu": true,
   "sourceLang": "en",
   "targetLang": "fr",
   "useGoogleTranslate": true
  },
  "varInspector": {
   "cols": {
    "lenName": 16,
    "lenType": 16,
    "lenVar": 40
   },
   "kernels_config": {
    "python": {
     "delete_cmd_postfix": "",
     "delete_cmd_prefix": "del ",
     "library": "var_list.py",
     "varRefreshCmd": "print(var_dic_list())"
    },
    "r": {
     "delete_cmd_postfix": ") ",
     "delete_cmd_prefix": "rm(",
     "library": "var_list.r",
     "varRefreshCmd": "cat(var_dic_list()) "
    }
   },
   "types_to_exclude": [
    "module",
    "function",
    "builtin_function_or_method",
    "instance",
    "_Feature"
   ],
   "window_display": false
  }
 },
 "nbformat": 4,
 "nbformat_minor": 4
}
