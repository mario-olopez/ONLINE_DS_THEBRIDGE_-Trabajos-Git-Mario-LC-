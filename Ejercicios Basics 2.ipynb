{
 "cells": [
  {
   "cell_type": "markdown",
   "metadata": {},
   "source": [
    "![imagen](./img/ejercicios.png)"
   ]
  },
  {
   "cell_type": "markdown",
   "metadata": {},
   "source": [
    "# Ejercicios Python Basics II"
   ]
  },
  {
   "cell_type": "markdown",
   "metadata": {},
   "source": [
    "## Ejercicio 1\n",
    "* Crea dos variables numericas: un `int` y un `float`\n",
    "* Comprueba sus tipos\n",
    "* Sumalas en otra nueva\n",
    "* ¿De qué tipo es la nueva variable?\n",
    "* Elimina las variables creadas"
   ]
  },
  {
   "cell_type": "code",
   "execution_count": 12,
   "metadata": {},
   "outputs": [
    {
     "data": {
      "text/plain": [
       "int"
      ]
     },
     "execution_count": 12,
     "metadata": {},
     "output_type": "execute_result"
    }
   ],
   "source": [
    "#Variable int\n",
    "\n",
    "variable_int = 5\n",
    "type(variable_int)"
   ]
  },
  {
   "cell_type": "code",
   "execution_count": 13,
   "metadata": {},
   "outputs": [
    {
     "data": {
      "text/plain": [
       "float"
      ]
     },
     "execution_count": 13,
     "metadata": {},
     "output_type": "execute_result"
    }
   ],
   "source": [
    "#Variable float\n",
    "\n",
    "variable_float = 5.5\n",
    "type(variable_float)"
   ]
  },
  {
   "cell_type": "code",
   "execution_count": 14,
   "metadata": {},
   "outputs": [
    {
     "data": {
      "text/plain": [
       "float"
      ]
     },
     "execution_count": 14,
     "metadata": {},
     "output_type": "execute_result"
    }
   ],
   "source": [
    "#Suma variables\n",
    "\n",
    "suma_variables = variable_int + variable_float\n",
    "type(suma_variables)"
   ]
  },
  {
   "cell_type": "code",
   "execution_count": 15,
   "metadata": {},
   "outputs": [],
   "source": [
    "del(suma_variables)"
   ]
  },
  {
   "cell_type": "markdown",
   "metadata": {},
   "source": [
    "## Ejercicio 2\n",
    "Escribe un programa para pasar de grados a radianes. Hay que usar `input`. Recuerda que la conversión se realiza mediante. Construye una función.\n",
    "\n",
    "$$radianes = grados*(pi/180)$$"
   ]
  },
  {
   "cell_type": "code",
   "execution_count": 20,
   "metadata": {},
   "outputs": [
    {
     "name": "stdout",
     "output_type": "stream",
     "text": [
      "9  son 0.15  radianes\n"
     ]
    }
   ],
   "source": [
    "\n",
    "grados = int(input(\"¿Qué grados hacen?\"))\n",
    "\n",
    "radianes = grados * (int(3.14) / 180)\n",
    "\n",
    "print(grados , \" son\" , radianes , \" radianes\")"
   ]
  },
  {
   "cell_type": "markdown",
   "metadata": {},
   "source": [
    "## Ejercicio 3\n",
    "Escribe un programa que calcule el area de un paralelogramo (base x altura). También con `input`"
   ]
  },
  {
   "cell_type": "code",
   "execution_count": 4,
   "metadata": {},
   "outputs": [],
   "source": [
    "# Pedir la base\n",
    "\n",
    "base = int(input(\"Dime la base de tu paralelogramo\"))"
   ]
  },
  {
   "cell_type": "code",
   "execution_count": 5,
   "metadata": {},
   "outputs": [],
   "source": [
    "# Pedir la altura\n",
    "\n",
    "altura = int(input(\"Dime la altura del paralelogramo\"))"
   ]
  },
  {
   "cell_type": "code",
   "execution_count": 3,
   "metadata": {},
   "outputs": [],
   "source": [
    "# Definir que el área es la base por la altura\n",
    "\n",
    "area_paralelogramo = base * altura"
   ]
  },
  {
   "cell_type": "code",
   "execution_count": 6,
   "metadata": {},
   "outputs": [
    {
     "name": "stdout",
     "output_type": "stream",
     "text": [
      "El área de tu paralelogramo es  15 cm2\n"
     ]
    }
   ],
   "source": [
    "# Definir que nos imprima el área\n",
    "\n",
    "print(\"El área de tu paralelogramo es \" , area_paralelogramo , \"cm2\")"
   ]
  },
  {
   "cell_type": "code",
   "execution_count": 7,
   "metadata": {},
   "outputs": [
    {
     "name": "stdout",
     "output_type": "stream",
     "text": [
      "El área de tu paralelogramo es de 15 cm2\n"
     ]
    }
   ],
   "source": [
    "base = int(input(\"Dime la base de tu paralelogramo\"))\n",
    "\n",
    "altura = int(input(\"Dime la altura de tu paralelogramo\"))\n",
    "\n",
    "print(\"El área de tu paralelogramo es de\" , area_paralelogramo , \"cm2\")\n"
   ]
  },
  {
   "cell_type": "markdown",
   "metadata": {},
   "source": [
    "## Ejercicio 4\n",
    "Tenemos las siguientes variables:\n",
    "\n",
    "```Python\n",
    "A = 4\n",
    "B = \"Text\"\n",
    "C = 4.1\n",
    "```\n",
    "\n",
    "Comprueba:\n",
    "1. Si A y B son equivalentes\n",
    "2. Si A y C NO son equivalentes\n",
    "3. Si A es mayor que C \n",
    "4. Si C es menor o igual que A\n",
    "5. Si B NO es equivalente a C"
   ]
  },
  {
   "cell_type": "code",
   "execution_count": 26,
   "metadata": {},
   "outputs": [
    {
     "data": {
      "text/plain": [
       "False"
      ]
     },
     "execution_count": 26,
     "metadata": {},
     "output_type": "execute_result"
    }
   ],
   "source": [
    "# Equivalentes A y B\n",
    "\n",
    "A = 4\n",
    "B = \"Text\"\n",
    "C = 4.1\n",
    "\n",
    "A == C"
   ]
  },
  {
   "cell_type": "code",
   "execution_count": null,
   "metadata": {},
   "outputs": [
    {
     "data": {
      "text/plain": [
       "True"
      ]
     },
     "execution_count": 27,
     "metadata": {},
     "output_type": "execute_result"
    }
   ],
   "source": [
    "# A y C no son equivalentes\n",
    "A != C"
   ]
  },
  {
   "cell_type": "code",
   "execution_count": 28,
   "metadata": {},
   "outputs": [
    {
     "data": {
      "text/plain": [
       "False"
      ]
     },
     "execution_count": 28,
     "metadata": {},
     "output_type": "execute_result"
    }
   ],
   "source": [
    "# A es mayor que C\n",
    "\n",
    "A > C"
   ]
  },
  {
   "cell_type": "code",
   "execution_count": 29,
   "metadata": {},
   "outputs": [
    {
     "data": {
      "text/plain": [
       "False"
      ]
     },
     "execution_count": 29,
     "metadata": {},
     "output_type": "execute_result"
    }
   ],
   "source": [
    "# C es menor o igual que A\n",
    "\n",
    "C <= A"
   ]
  },
  {
   "cell_type": "code",
   "execution_count": 30,
   "metadata": {},
   "outputs": [
    {
     "data": {
      "text/plain": [
       "True"
      ]
     },
     "execution_count": 30,
     "metadata": {},
     "output_type": "execute_result"
    }
   ],
   "source": [
    "# B no es equivalente a C\n",
    "\n",
    "B != C"
   ]
  },
  {
   "cell_type": "markdown",
   "metadata": {},
   "source": [
    "## Ejercicio 5\n",
    "Crea un programa donde se recojan dos inputs del usuario, y el output del programa sea si esos inputs son iguales o no"
   ]
  },
  {
   "cell_type": "code",
   "execution_count": 8,
   "metadata": {},
   "outputs": [
    {
     "name": "stdout",
     "output_type": "stream",
     "text": [
      "False\n"
     ]
    }
   ],
   "source": [
    "# Primer input\n",
    "nombre = input(\"Dime tu nombre\")\n",
    "\n",
    "# Segundo output\n",
    "edad = input(\"Dime tu edad\")\n",
    "\n",
    "print(nombre == edad)"
   ]
  },
  {
   "cell_type": "markdown",
   "metadata": {},
   "source": [
    "## Ejercicio 6\n",
    "Mismo programa que en 5, pero en esta ocasión tienen que ser tres inputs y dos salidas. Una de las salidas que nos indique si todos son iguales, y la otra si al menos dos inputs sí que lo son"
   ]
  },
  {
   "cell_type": "code",
   "execution_count": 9,
   "metadata": {},
   "outputs": [
    {
     "name": "stdout",
     "output_type": "stream",
     "text": [
      "Ninguno de los datos sin iguales\n",
      "No hay al menos dos datos iguales\n"
     ]
    }
   ],
   "source": [
    "# Primer input\n",
    "ciudad = input(\"Dime tu ciudad\")\n",
    "\n",
    "# Segundo input\n",
    "pais = input(\"Dime tu país\")\n",
    "\n",
    "# Tercer input\n",
    "hijos = input(\"Cuántos hijos tienes\")\n",
    "\n",
    "# Primera salida\n",
    "if ciudad == pais == hijos:\n",
    "    print(\"Los tres datos son iguales\")\n",
    "else:\n",
    "    print(\"Ninguno de los datos sin iguales\")\n",
    "\n",
    "# Segunda salida\n",
    "if ciudad == pais or ciudad == hijos or pais == hijos:\n",
    "    print(\"Dos datos son iguales\")\n",
    "else:\n",
    "    print(\"No hay al menos dos datos iguales\")\n"
   ]
  },
  {
   "cell_type": "markdown",
   "metadata": {},
   "source": [
    "## Ejercicio 7\n",
    "Crea un programa que recoja dos inputs. Tiene que comprobar si su suma es igual, superior o inferior a 10, cada condición por separado"
   ]
  },
  {
   "cell_type": "code",
   "execution_count": 12,
   "metadata": {},
   "outputs": [
    {
     "name": "stdout",
     "output_type": "stream",
     "text": [
      "Tienes menos de diez vehículos\n"
     ]
    }
   ],
   "source": [
    "primer_input = int(input(\"Cuántos coches tienes\"))\n",
    "\n",
    "segundo_input = int (input(\"Cuántas motos tienes\"))\n",
    "\n",
    "#Suma de los dos inputs es igual a 10\n",
    "\n",
    "if primer_input + segundo_input == 10:\n",
    "    print(\"Tienes 10 vehículos\")\n",
    "\n",
    "#Condición suma es superior a 10\n",
    "\n",
    "if primer_input + segundo_input > 10:\n",
    "    print(\"Tienes más de 10 vehículos\")\n",
    "\n",
    "#Condición suma inferior a 10\n",
    "\n",
    "if primer_input + segundo_input < 10:\n",
    "    print(\"Tienes menos de diez vehículos\")"
   ]
  },
  {
   "attachments": {},
   "cell_type": "markdown",
   "metadata": {},
   "source": [
    "## Ejercicio 8\n",
    "Razona sin ejecutar código el output que obtendremos de las siguientes sentencias\n",
    "1. True and True and False\n",
    "2. not ((True or False) and (True or False))\n",
    "3. (False or False or False or True) and False\n",
    "4. not False and True and not True\n",
    "\n",
    "Compruébalo después con python"
   ]
  },
  {
   "cell_type": "code",
   "execution_count": null,
   "metadata": {},
   "outputs": [
    {
     "data": {
      "text/plain": [
       "False"
      ]
     },
     "execution_count": 11,
     "metadata": {},
     "output_type": "execute_result"
    }
   ],
   "source": [
    "True and True and False"
   ]
  },
  {
   "cell_type": "code",
   "execution_count": 12,
   "metadata": {},
   "outputs": [
    {
     "data": {
      "text/plain": [
       "False"
      ]
     },
     "execution_count": 12,
     "metadata": {},
     "output_type": "execute_result"
    }
   ],
   "source": [
    "not ((True or False) and (True or False))"
   ]
  },
  {
   "cell_type": "code",
   "execution_count": 13,
   "metadata": {},
   "outputs": [
    {
     "data": {
      "text/plain": [
       "False"
      ]
     },
     "execution_count": 13,
     "metadata": {},
     "output_type": "execute_result"
    }
   ],
   "source": [
    "(False or False or False or True) and False"
   ]
  },
  {
   "cell_type": "code",
   "execution_count": 14,
   "metadata": {},
   "outputs": [
    {
     "data": {
      "text/plain": [
       "False"
      ]
     },
     "execution_count": 14,
     "metadata": {},
     "output_type": "execute_result"
    }
   ],
   "source": [
    "not False and True and not True"
   ]
  },
  {
   "cell_type": "markdown",
   "metadata": {},
   "source": [
    "## Ejercicio 9\n",
    "Para este ejercicio vamos a poner en práctica [las funciones built in](https://docs.python.org/3/library/functions.html).\n",
    "\n",
    "1. Calcula el máximo de la lista: [4, 6, 8, -1]\n",
    "2. Suma todos los elementos de la lista anterior\n",
    "3. Redondea este float a 3 dígitos decimales: 63.451256965\n",
    "4. Valor absoluto de: -74"
   ]
  },
  {
   "cell_type": "code",
   "execution_count": 18,
   "metadata": {},
   "outputs": [
    {
     "name": "stdout",
     "output_type": "stream",
     "text": [
      "8\n"
     ]
    }
   ],
   "source": [
    "lista = [4, 6, 8, -1]\n",
    "\n",
    "# Valor máximo de la lista\n",
    "\n",
    "print(max(lista))"
   ]
  },
  {
   "cell_type": "code",
   "execution_count": 20,
   "metadata": {},
   "outputs": [
    {
     "name": "stdout",
     "output_type": "stream",
     "text": [
      "17\n"
     ]
    }
   ],
   "source": [
    "# Sumar todos los elementos\n",
    "\n",
    "print(sum(lista))"
   ]
  },
  {
   "cell_type": "code",
   "execution_count": 23,
   "metadata": {},
   "outputs": [
    {
     "name": "stdout",
     "output_type": "stream",
     "text": [
      "63.451\n"
     ]
    }
   ],
   "source": [
    "num_redondear = 63.451256965\n",
    "num_redondeado = round(num_redondear,3)\n",
    "print(num_redondeado)"
   ]
  },
  {
   "cell_type": "code",
   "execution_count": 24,
   "metadata": {},
   "outputs": [
    {
     "name": "stdout",
     "output_type": "stream",
     "text": [
      "74\n"
     ]
    }
   ],
   "source": [
    "valor = -74\n",
    "valor_absoluto = abs(valor)\n",
    "print(valor_absoluto)"
   ]
  },
  {
   "cell_type": "markdown",
   "metadata": {},
   "source": [
    "## Ejercicio 10\n",
    "Para el siguiente string se pide imprimir por pantalla los siguientes casos\n",
    "\n",
    "    \"Lo primero de todo, cómo están los máquinas\"\n",
    "\n",
    "1. Pasarlo todo a mayúsculas\n",
    "2. Pasarlo todo a minúsculas\n",
    "3. Pasar a mayúsculas solo las iniciales de las palabras\n",
    "4. Crea una lista dividiendolo por sus espacios\n",
    "5. Sustituye las comas `,` por puntos y comas `;`\n",
    "6. Elimina las `a` minúsculas"
   ]
  },
  {
   "cell_type": "code",
   "execution_count": 20,
   "metadata": {},
   "outputs": [
    {
     "name": "stdout",
     "output_type": "stream",
     "text": [
      "LO PRIMERO DE TODO, CÓMO ESTÁN LOS MÁQUINAS\n",
      "lo primero de todo, cómo están los máquinas\n",
      "Lo Primero De Todo, Cómo Están Los Máquinas\n",
      "['Lo', 'primero', 'de', 'todo,', 'cómo', 'están', 'los', 'máquinas']\n",
      "Lo primero de todo; cómo están los máquinas\n",
      "Lo primero de todo, cómo están los máquins\n",
      "Lo primero de todo, cómo estn los mquinas\n"
     ]
    }
   ],
   "source": [
    "# Frase en mayúsculas\n",
    "\n",
    "frase = \"Lo primero de todo, cómo están los máquinas\"\n",
    "\n",
    "print(frase.upper())\n",
    "\n",
    "print(frase.lower())\n",
    "\n",
    "print(frase.title())\n",
    "\n",
    "print(frase.split(\" \"))\n",
    "\n",
    "print(frase.replace(\",\" , \";\"))\n",
    "\n",
    "print(frase.replace(\"a\", \"\"))\n",
    "print(frase.replace(\"á\", \"\"))"
   ]
  },
  {
   "cell_type": "markdown",
   "metadata": {},
   "source": [
    "## Ejercicio 11\n",
    "1. Crea una lista con 3 elementos numéricos\n",
    "2. Añade un cuarto elemento\n",
    "3. Calcula la suma de todos\n",
    "4. Elimina el segundo elemento de la lista\n",
    "5. Añade otro elemento en la posicion 3 de la lista\n",
    "6. Crea otra lista con 4 elementos y concaténala a la que ya tenías."
   ]
  },
  {
   "cell_type": "code",
   "execution_count": 34,
   "metadata": {},
   "outputs": [
    {
     "name": "stdout",
     "output_type": "stream",
     "text": [
      "[5, 15, 20, 25]\n",
      "65\n",
      "[5, 20, 25]\n",
      "[5, 20, 85, 25]\n",
      "[5, 20, 85, 25, 'perro', 'gato', 'ratón', 'loro']\n"
     ]
    }
   ],
   "source": [
    "lista_numerica = [5,15,20]\n",
    "\n",
    "lista_numerica.append(25)\n",
    "print(lista_numerica)\n",
    "\n",
    "print(sum(lista_numerica))\n",
    "\n",
    "lista_numerica.pop(1)\n",
    "print(lista_numerica)\n",
    "\n",
    "lista_numerica.insert(2,85)\n",
    "print(lista_numerica)\n",
    "\n",
    "lista_dos = [\"perro\" , \"gato\" , \"ratón\" , \"loro\"]\n",
    "\n",
    "listas_juntas = lista_numerica + lista_dos\n",
    "print(listas_juntas)"
   ]
  }
 ],
 "metadata": {
  "kernelspec": {
   "display_name": "Python 3",
   "language": "python",
   "name": "python3"
  },
  "language_info": {
   "codemirror_mode": {
    "name": "ipython",
    "version": 3
   },
   "file_extension": ".py",
   "mimetype": "text/x-python",
   "name": "python",
   "nbconvert_exporter": "python",
   "pygments_lexer": "ipython3",
   "version": "3.13.0"
  },
  "nbTranslate": {
   "displayLangs": [
    "*"
   ],
   "hotkey": "alt-t",
   "langInMainMenu": true,
   "sourceLang": "en",
   "targetLang": "fr",
   "useGoogleTranslate": true
  },
  "varInspector": {
   "cols": {
    "lenName": 16,
    "lenType": 16,
    "lenVar": 40
   },
   "kernels_config": {
    "python": {
     "delete_cmd_postfix": "",
     "delete_cmd_prefix": "del ",
     "library": "var_list.py",
     "varRefreshCmd": "print(var_dic_list())"
    },
    "r": {
     "delete_cmd_postfix": ") ",
     "delete_cmd_prefix": "rm(",
     "library": "var_list.r",
     "varRefreshCmd": "cat(var_dic_list()) "
    }
   },
   "types_to_exclude": [
    "module",
    "function",
    "builtin_function_or_method",
    "instance",
    "_Feature"
   ],
   "window_display": false
  }
 },
 "nbformat": 4,
 "nbformat_minor": 4
}
